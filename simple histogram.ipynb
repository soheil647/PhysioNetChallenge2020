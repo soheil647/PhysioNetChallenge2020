{
 "cells": [
  {
   "cell_type": "code",
   "execution_count": 2,
   "metadata": {
    "pycharm": {
     "is_executing": false
    }
   },
   "outputs": [],
   "source": [
    "import numpy as np\n",
    "import os\n",
    "import pandas as pd\n",
    "from scipy.io import loadmat\n",
    "import glob"
   ]
  },
  {
   "cell_type": "code",
   "execution_count": 2,
   "metadata": {
    "pycharm": {
     "is_executing": false,
     "name": "#%%\n"
    }
   },
   "outputs": [],
   "source": [
    "def read_classes_from_head_files(head_files):\n",
    "    my_list = []\n",
    "    passed_file = 0\n",
    "    for file in head_files:\n",
    "        if passed_file % 100 == 0:\n",
    "            print('number of passed files: ', passed_file)\n",
    "        my_dict = dict.fromkeys(['name', 'Hx', 'Rx', 'Dx', 'Sex', 'Age'])\n",
    "        my_dict['name'] = file.split('.')[0] \n",
    "        with open(file, 'r') as f:\n",
    "            for line in f:\n",
    "                if line.startswith('#Sx'):\n",
    "                    my_dict['Sx'] = line.split(': ')[1]\n",
    "                if line.startswith('#Hx'):\n",
    "                    my_dict['Hx'] = line.split(': ')[1]\n",
    "                if line.startswith('#Rx'):\n",
    "                    my_dict['Rx'] = line.split(': ')[1]\n",
    "                if line.startswith('#Dx'):\n",
    "                    my_dict['Dx'] = line.split(': ')[1]\n",
    "                if line.startswith('#Sex'):\n",
    "                    my_dict['Sex'] = line.split(': ')[1]\n",
    "                if line.startswith('#Age'):\n",
    "                    my_dict['Age'] = line.split(': ')[1]\n",
    "        passed_file = passed_file + 1\n",
    "        my_list.append(my_dict)\n",
    "    return my_list\n",
    "\n",
    "def read_classes_from_mat_files(mat_files):\n",
    "    my_list = []\n",
    "    passed_file = 0\n",
    "    for file in mat_files:\n",
    "        if passed_file % 100 == 0:\n",
    "            print('number of passed files: ', passed_file)\n",
    "        leads = ['name']\n",
    "        for i in range(12):\n",
    "            leads.append('lead' + str(i))\n",
    "        # print(i for i in [str(x for x in list(range(12\n",
    "        # ))])\n",
    "        my_dict = dict.fromkeys(leads)\n",
    "        my_dict['name'] = file.split('.')[0]\n",
    "        # for val in \n",
    "        vals = loadmat(file)['val']\n",
    "        for i in range(len(vals)):\n",
    "            my_dict['lead' + str(i)] = vals[i]\n",
    "        passed_file = passed_file + 1\n",
    "        my_list.append(my_dict)\n",
    "    return my_list"
   ]
  },
  {
   "cell_type": "code",
   "execution_count": 3,
   "metadata": {
    "pycharm": {
     "is_executing": false
    }
   },
   "outputs": [
    {
     "name": "stdout",
     "text": [
      "['Training']\n",
      "number of passed files:  0\n",
      "number of passed files:  100\n",
      "number of passed files:  200\n",
      "number of passed files:  300\n",
      "number of passed files:  400\n",
      "number of passed files:  500\n",
      "number of passed files:  600\n",
      "number of passed files:  700\n",
      "number of passed files:  800\n",
      "number of passed files:  900\n",
      "number of passed files:  1000\n",
      "number of passed files:  1100\n",
      "number of passed files:  1200\n",
      "number of passed files:  1300\n",
      "number of passed files:  1400\n",
      "number of passed files:  1500\n",
      "number of passed files:  1600\n",
      "number of passed files:  1700\n",
      "number of passed files:  1800\n",
      "number of passed files:  0\n",
      "number of passed files:  100\n",
      "number of passed files:  200\n",
      "number of passed files:  300\n",
      "number of passed files:  400\n",
      "number of passed files:  500\n",
      "number of passed files:  600\n",
      "number of passed files:  700\n",
      "number of passed files:  800\n",
      "number of passed files:  900\n",
      "number of passed files:  1000\n",
      "number of passed files:  1100\n",
      "number of passed files:  1200\n",
      "number of passed files:  1300\n",
      "number of passed files:  1400\n",
      "number of passed files:  1500\n",
      "number of passed files:  1600\n",
      "number of passed files:  1700\n",
      "number of passed files:  1800\n",
      "Extracting 12ECG features...\n"
     ],
     "output_type": "stream"
    }
   ],
   "source": [
    "output_directory = ''\n",
    "mat_extension = 'mat'\n",
    "hea_extension = 'hea'\n",
    "\n",
    "# Find files.\n",
    "mat_files = []\n",
    "hea_files = []\n",
    "os.chdir('/home/sspc/Desktop/Competition/Datas/')\n",
    "training_folders = [i for i in glob.glob('*') if i != 'test.xlsx' and i != 'store.h5']\n",
    "print(training_folders)\n",
    "for folder in training_folders:\n",
    "    file_path = '/home/sspc/Desktop/Competition/Datas/' + folder\n",
    "    os.chdir(file_path)\n",
    "    mat_files = mat_files + [i for i in glob.glob('*.{}'.format(mat_extension)) if i != 'test.xlsx' and i != 'store.h5']\n",
    "    hea_files = hea_files + [i for i in glob.glob('*.{}'.format(hea_extension)) if i != 'test.xlsx' and i != 'store.h5']\n",
    "\n",
    "head_file_list = read_classes_from_head_files(hea_files)\n",
    "mat_file_list = read_classes_from_mat_files(mat_files)\n",
    "# Iterate over files.\n",
    "print('Extracting 12ECG features...')\n",
    "# print(len(mat_file_list))"
   ]
  },
  {
   "cell_type": "code",
   "execution_count": 4,
   "metadata": {
    "pycharm": {
     "is_executing": false,
     "name": "#%%\n"
    }
   },
   "outputs": [
    {
     "name": "stderr",
     "text": [
      "/home/sspc/anaconda3/envs/keras&tf/lib/python3.7/site-packages/IPython/core/interactiveshell.py:3331: PerformanceWarning: \n",
      "your performance may suffer as PyTables will pickle object types that it cannot\n",
      "map directly to c-types [inferred_type->mixed,key->block0_values] [items->Index(['name', 'lead1', 'lead2', 'lead3', 'lead4', 'lead5', 'lead6', 'lead7',\n",
      "       'lead8', 'lead9', 'lead10', 'lead11', 'lead0', 'Dx', 'Hx', 'Sx', 'Rx',\n",
      "       'Sex', 'Age'],\n",
      "      dtype='object')]\n",
      "\n",
      "  exec(code_obj, self.user_global_ns, self.user_ns)\n"
     ],
     "output_type": "stream"
    },
    {
     "name": "stdout",
     "text": [
      "Yes\n"
     ],
     "output_type": "stream"
    }
   ],
   "source": [
    "# pd.set_option('display.max_rows', 500)\n",
    "# pd.set_option('display.max_columns', 2000)\n",
    "# pd.set_option('display.width', 1000)\n",
    "\n",
    "datas = []\n",
    "for i in range(len(mat_file_list)):\n",
    "    for j in range(len(head_file_list)):\n",
    "        if head_file_list[j]['name'] == mat_file_list[i]['name']:\n",
    "            datas.append({'name': mat_file_list[i]['name'], 'lead1': mat_file_list[i]['lead1'], 'lead2': mat_file_list[i]['lead1'], 'lead3': mat_file_list[i]['lead3'], 'lead4': mat_file_list[i]['lead4'], 'lead5': mat_file_list[i]['lead5'], 'lead6': mat_file_list[i]['lead6'], 'lead7': mat_file_list[i]['lead7'], 'lead8':mat_file_list[i]['lead8'], 'lead9': mat_file_list[i]['lead9'], 'lead10': mat_file_list[i]['lead10'], 'lead11': mat_file_list[i]['lead11'], 'lead0': mat_file_list[i]['lead0'], 'Dx':head_file_list[j]['Dx'],  'Hx':head_file_list[j]['Hx'], 'Sx': head_file_list[j]['Sx'], 'Rx': head_file_list[j]['Rx'], 'Sex': head_file_list[j]['Sex'], 'Age': head_file_list[j]['Age']})\n",
    "\n",
    "df = pd.DataFrame(datas)\n",
    "os.chdir('/home/sspc/Desktop/Competition/Datas/')\n",
    "# df.to_csv('test.xlsx')\n",
    "# print(df)\n",
    "store = pd.HDFStore('store.h5')\n",
    "store['df'] = df\n",
    "print('Yes')"
   ]
  },
  {
   "cell_type": "code",
   "execution_count": 3,
   "metadata": {
    "pycharm": {
     "is_executing": false
    }
   },
   "outputs": [
    {
     "name": "stdout",
     "text": [
      "       name                                              lead1  \\\n",
      "0     Q2672  [384, 589, 563, 590, 526, 421, 258, 116, 23, -...   \n",
      "1     Q2114  [262, 262, 261, 257, 256, 257, 260, 262, 261, ...   \n",
      "2     Q2491  [158, 163, 170, 178, 182, 186, 191, 194, 195, ...   \n",
      "3     Q3253  [35, 50, 54, 69, 60, 52, 42, 44, 48, 44, 40, 3...   \n",
      "4     Q2358  [-42, -42, -44, -48, -52, -53, -53, -51, -46, ...   \n",
      "...     ...                                                ...   \n",
      "1805  Q2255  [-42, -45, -47, -48, -48, -47, -44, -45, -46, ...   \n",
      "1806  Q2921  [-16, -20, -17, -6, 9, 21, 29, 28, 25, 23, 23,...   \n",
      "1807  Q3312  [-25, -37, -32, -38, -35, -31, -30, -28, -28, ...   \n",
      "1808  Q2975  [-25, -37, -32, -28, -23, -20, -22, -27, -30, ...   \n",
      "1809  Q3272  [-61, -62, -63, -63, -65, -63, -62, -62, -58, ...   \n",
      "\n",
      "                                                  lead2  \\\n",
      "0     [384, 589, 563, 590, 526, 421, 258, 116, 23, -...   \n",
      "1     [262, 262, 261, 257, 256, 257, 260, 262, 261, ...   \n",
      "2     [158, 163, 170, 178, 182, 186, 191, 194, 195, ...   \n",
      "3     [35, 50, 54, 69, 60, 52, 42, 44, 48, 44, 40, 3...   \n",
      "4     [-42, -42, -44, -48, -52, -53, -53, -51, -46, ...   \n",
      "...                                                 ...   \n",
      "1805  [-42, -45, -47, -48, -48, -47, -44, -45, -46, ...   \n",
      "1806  [-16, -20, -17, -6, 9, 21, 29, 28, 25, 23, 23,...   \n",
      "1807  [-25, -37, -32, -38, -35, -31, -30, -28, -28, ...   \n",
      "1808  [-25, -37, -32, -28, -23, -20, -22, -27, -30, ...   \n",
      "1809  [-61, -62, -63, -63, -65, -63, -62, -62, -58, ...   \n",
      "\n",
      "                                                  lead3  \\\n",
      "0     [-364, -515, -428, -391, -282, -184, -67, 40, ...   \n",
      "1     [-136, -137, -137, -134, -133, -134, -137, -14...   \n",
      "2     [-81, -86, -92, -99, -104, -108, -113, -116, -...   \n",
      "3     [-51, -75, -74, -78, -63, -49, -33, -36, -36, ...   \n",
      "4     [117, 118, 120, 123, 127, 130, 133, 133, 132, ...   \n",
      "...                                                 ...   \n",
      "1805  [48, 49, 48, 46, 45, 42, 39, 39, 40, 40, 42, 4...   \n",
      "1806  [26, 27, 26, 20, 11, 3, -2, -2, 1, 2, 2, 2, -4...   \n",
      "1807  [30, 45, 39, 43, 39, 37, 37, 35, 32, 32, 34, 3...   \n",
      "1808  [19, 29, 26, 24, 21, 19, 18, 20, 25, 28, 23, 2...   \n",
      "1809  [54, 54, 56, 56, 57, 56, 56, 56, 53, 54, 51, 4...   \n",
      "\n",
      "                                                  lead4  \\\n",
      "0     [152, 145, 11, -103, -225, -263, -253, -252, -...   \n",
      "1     [-121, -118, -116, -116, -118, -116, -113, -10...   \n",
      "2     [-73, -72, -70, -67, -64, -61, -60, -58, -57, ...   \n",
      "3     [49, 74, 68, 51, 36, 20, 2, 5, 0, -13, -16, -2...   \n",
      "4     [-171, -173, -173, -174, -177, -180, -186, -19...   \n",
      "...                                                 ...   \n",
      "1805  [-32, -30, -24, -20, -17, -12, -11, -9, -11, -...   \n",
      "1806  [-27, -24, -25, -30, -34, -37, -37, -36, -36, ...   \n",
      "1807  [-23, -34, -29, -28, -26, -27, -27, -27, -22, ...   \n",
      "1808  [0, -3, -4, -6, -9, -8, -2, 1, -5, -6, -6, -6,...   \n",
      "1809  [-16, -16, -16, -16, -17, -16, -17, -19, -19, ...   \n",
      "\n",
      "                                                  lead5  \\\n",
      "0     [212, 369, 417, 495, 507, 448, 320, 213, 152, ...   \n",
      "1     [257, 255, 254, 251, 251, 251, 252, 251, 249, ...   \n",
      "2     [155, 158, 162, 167, 168, 170, 173, 174, 174, ...   \n",
      "3     [2, 0, 6, 27, 27, 29, 31, 30, 37, 40, 39, 37, ...   \n",
      "4     [53, 54, 53, 50, 48, 50, 53, 56, 62, 71, 81, 9...   \n",
      "...                                                 ...   \n",
      "1805  [-16, -19, -23, -26, -28, -29, -28, -29, -29, ...   \n",
      "1806  [1, -3, 0, 10, 23, 34, 40, 38, 37, 35, 35, 38,...   \n",
      "1807  [-8, -10, -10, -15, -13, -11, -10, -8, -10, -1...   \n",
      "1808  [-18, -27, -22, -18, -13, -12, -15, -20, -20, ...   \n",
      "1809  [-37, -38, -38, -38, -40, -38, -37, -37, -34, ...   \n",
      "\n",
      "                                                  lead6  \\\n",
      "0     [-383, -537, -438, -392, -290, -204, -97, 2, 9...   \n",
      "1     [-190, -188, -185, -182, -180, -180, -182, -18...   \n",
      "2     [52, 54, 53, 52, 48, 42, 34, 23, 9, -6, -23, -...   \n",
      "3     [38, 60, 62, 83, 94, 106, 124, 133, 120, 106, ...   \n",
      "4     [-1, -1, -1, -2, -2, -1, 1, 5, 9, 12, 15, 14, ...   \n",
      "...                                                 ...   \n",
      "1805  [82, 82, 81, 80, 81, 81, 83, 85, 86, 88, 88, 8...   \n",
      "1806  [22, 19, 20, 25, 30, 31, 30, 25, 20, 18, 22, 3...   \n",
      "1807  [29, 42, 40, 44, 42, 41, 42, 39, 36, 37, 42, 4...   \n",
      "1808  [24, 30, 27, 33, 37, 38, 37, 40, 45, 48, 45, 4...   \n",
      "1809  [-32, -33, -32, -32, -31, -30, -29, -27, -25, ...   \n",
      "\n",
      "                                                  lead7  \\\n",
      "0     [-1111, -1583, -1367, -1344, -1180, -1082, -90...   \n",
      "1     [78, 78, 79, 78, 78, 76, 75, 73, 70, 67, 65, 6...   \n",
      "2     [56, 58, 60, 62, 62, 60, 56, 49, 41, 31, 20, 8...   \n",
      "3     [89, 122, 105, 110, 97, 95, 96, 85, 74, 69, 66...   \n",
      "4     [-210, -207, -204, -203, -205, -208, -212, -21...   \n",
      "...                                                 ...   \n",
      "1805  [113, 115, 119, 122, 125, 130, 133, 136, 138, ...   \n",
      "1806  [-31, -32, -30, -26, -21, -18, -17, -21, -26, ...   \n",
      "1807  [-13, -18, -16, -18, -14, -17, -14, -9, -14, -...   \n",
      "1808  [68, 97, 93, 101, 102, 109, 113, 113, 112, 116...   \n",
      "1809  [-112, -113, -113, -114, -115, -116, -116, -11...   \n",
      "\n",
      "                                                  lead8  \\\n",
      "0     [-1437, -2037, -1776, -1788, -1619, -1536, -13...   \n",
      "1     [497, 499, 499, 497, 493, 488, 483, 482, 482, ...   \n",
      "2     [138, 141, 144, 146, 148, 148, 147, 144, 140, ...   \n",
      "3     [-3, -1, 5, 12, 9, 15, 22, 11, 4, 2, 2, 4, 5, ...   \n",
      "4     [-458, -456, -453, -449, -447, -446, -447, -44...   \n",
      "...                                                 ...   \n",
      "1805  [-12, -11, -8, -5, -3, 0, 0, 0, -1, -1, 1, 2, ...   \n",
      "1806  [-58, -55, -47, -41, -36, -36, -41, -47, -54, ...   \n",
      "1807  [-43, -61, -60, -62, -59, -60, -59, -60, -59, ...   \n",
      "1808  [30, 50, 45, 49, 54, 56, 58, 59, 66, 69, 64, 6...   \n",
      "1809  [-151, -152, -153, -154, -153, -154, -154, -15...   \n",
      "\n",
      "                                                  lead9  \\\n",
      "0     [-1075, -1495, -1270, -1266, -1158, -1148, -10...   \n",
      "1     [-211, -207, -203, -199, -195, -193, -192, -19...   \n",
      "2     [158, 162, 166, 170, 173, 175, 175, 174, 171, ...   \n",
      "3     [39, 53, 56, 68, 61, 68, 71, 52, 47, 55, 63, 6...   \n",
      "4     [-154, -151, -149, -148, -148, -151, -153, -15...   \n",
      "...                                                 ...   \n",
      "1805  [-114, -115, -114, -112, -112, -113, -113, -11...   \n",
      "1806  [-64, -60, -53, -47, -42, -41, -43, -48, -53, ...   \n",
      "1807  [-52, -74, -66, -66, -63, -67, -66, -69, -76, ...   \n",
      "1808  [20, 40, 38, 39, 41, 40, 43, 47, 56, 56, 40, 2...   \n",
      "1809  [-161, -162, -162, -162, -162, -161, -160, -15...   \n",
      "\n",
      "                                                 lead10  \\\n",
      "0     [-256, -283, -123, -71, -102, -247, -422, -556...   \n",
      "1     [-162, -160, -156, -152, -148, -145, -141, -14...   \n",
      "2     [119, 123, 126, 130, 132, 135, 136, 137, 136, ...   \n",
      "3     [112, 155, 135, 143, 129, 131, 129, 113, 104, ...   \n",
      "4     [-263, -260, -255, -250, -247, -249, -255, -26...   \n",
      "...                                                 ...   \n",
      "1805  [-94, -95, -96, -97, -97, -98, -100, -102, -10...   \n",
      "1806  [-53, -47, -38, -31, -25, -21, -21, -23, -26, ...   \n",
      "1807  [-37, -52, -47, -50, -48, -49, -49, -49, -53, ...   \n",
      "1808  [-73, -99, -82, -84, -79, -81, -75, -73, -72, ...   \n",
      "1809  [-83, -83, -84, -84, -84, -84, -83, -82, -81, ...   \n",
      "\n",
      "                                                 lead11  \\\n",
      "0     [818, 1338, 1431, 1587, 1444, 1180, 791, 411, ...   \n",
      "1     [-210, -206, -202, -198, -195, -196, -195, -19...   \n",
      "2     [27, 31, 34, 38, 42, 45, 47, 49, 51, 52, 53, 5...   \n",
      "3     [-96, -143, -139, -159, -168, -172, -164, -177...   \n",
      "4     [-89, -88, -84, -78, -75, -75, -78, -84, -93, ...   \n",
      "...                                                 ...   \n",
      "1805  [-89, -90, -91, -93, -95, -97, -100, -102, -10...   \n",
      "1806  [-63, -52, -39, -32, -29, -34, -40, -43, -43, ...   \n",
      "1807  [-19, -28, -28, -29, -28, -28, -23, -21, -26, ...   \n",
      "1808  [-8, -6, 0, 4, 5, 5, 10, 12, 11, 7, 2, -1, 2, ...   \n",
      "1809  [-60, -60, -60, -61, -61, -62, -61, -61, -60, ...   \n",
      "\n",
      "                                                  lead0  \\\n",
      "0     [345, 441, 293, 192, 37, -53, -125, -194, -259...   \n",
      "1     [10, 13, 14, 12, 10, 12, 16, 22, 24, 21, 19, 2...   \n",
      "2     [5, 9, 14, 21, 26, 31, 35, 38, 40, 40, 39, 39,...   \n",
      "3     [67, 99, 94, 86, 66, 46, 23, 27, 24, 9, 4, -4,...   \n",
      "4     [-192, -194, -195, -198, -203, -207, -213, -21...   \n",
      "...                                                 ...   \n",
      "1805  [-53, -53, -48, -44, -41, -36, -33, -32, -34, ...   \n",
      "1806  [-35, -34, -34, -33, -30, -27, -23, -22, -24, ...   \n",
      "1807  [-35, -53, -45, -48, -43, -42, -41, -42, -36, ...   \n",
      "1808  [-13, -21, -20, -20, -20, -18, -13, -13, -20, ...   \n",
      "1809  [-47, -47, -48, -48, -50, -48, -49, -50, -48, ...   \n",
      "\n",
      "                         Dx         Hx         Sx         Rx       Sex   Age  \n",
      "0               164890007\\n  Unknown\\n  Unknown\\n  Unknown\\n    Male\\n  35\\n  \n",
      "1               164867002\\n  Unknown\\n  Unknown\\n  Unknown\\n    Male\\n  39\\n  \n",
      "2     164873001,428750005\\n  Unknown\\n  Unknown\\n  Unknown\\n  Female\\n  64\\n  \n",
      "3               428750005\\n  Unknown\\n  Unknown\\n  Unknown\\n  Female\\n  80\\n  \n",
      "4               164867002\\n  Unknown\\n  Unknown\\n  Unknown\\n    Male\\n  71\\n  \n",
      "...                     ...        ...        ...        ...       ...   ...  \n",
      "1805            428750005\\n  Unknown\\n  Unknown\\n  Unknown\\n  Female\\n  59\\n  \n",
      "1806            164930006\\n  Unknown\\n  Unknown\\n  Unknown\\n  Female\\n  89\\n  \n",
      "1807            164930006\\n  Unknown\\n  Unknown\\n  Unknown\\n  Female\\n  52\\n  \n",
      "1808            164865005\\n  Unknown\\n  Unknown\\n  Unknown\\n    Male\\n  67\\n  \n",
      "1809            164930006\\n  Unknown\\n  Unknown\\n  Unknown\\n    Male\\n  49\\n  \n",
      "\n",
      "[1810 rows x 19 columns]\n"
     ],
     "output_type": "stream"
    }
   ],
   "source": [
    "os.chdir('/home/sspc/Desktop/Competition/')\n",
    "print(pd.read_hdf('Datas/store.h5'))\n",
    "# print(pd.DataFrame( store['df']))\n"
   ]
  },
  {
   "cell_type": "code",
   "execution_count": null,
   "metadata": {
    "pycharm": {
     "is_executing": true
    }
   },
   "outputs": [],
   "source": [
    "Y = pd.DataFrame(Y)\n",
    "X = pd.DataFrame(X)\n",
    "print(len(X.loc[1][0][0]))\n",
    "print(Y)"
   ]
  },
  {
   "cell_type": "code",
   "execution_count": null,
   "metadata": {
    "pycharm": {
     "is_executing": true
    }
   },
   "outputs": [],
   "source": []
  },
  {
   "cell_type": "code",
   "execution_count": null,
   "metadata": {
    "pycharm": {
     "is_executing": true
    }
   },
   "outputs": [],
   "source": [
    "import matplotlib.pyplot as plt\n",
    "total_mean = {}\n",
    "for col in np.unique(Y):\n",
    "    total_mean.update({str(col): []})\n",
    "for r in np.unique(Y):\n",
    "    row_ix = np.where(np.array(Y) == r)\n",
    "#     print(np.mean(X[1][2]))\n",
    "    for index in row_ix[0]:\n",
    "        total_mean[str(r)].append(np.mean(np.array(X[index]), axis=1))"
   ]
  },
  {
   "cell_type": "code",
   "execution_count": null,
   "metadata": {
    "pycharm": {
     "is_executing": true
    }
   },
   "outputs": [],
   "source": [
    "plt.hist(total_mean['164884008'])\n",
    "plt.show()"
   ]
  },
  {
   "cell_type": "code",
   "execution_count": null,
   "metadata": {
    "pycharm": {
     "is_executing": true
    }
   },
   "outputs": [],
   "source": [
    "plt.hist(total_mean['164889003'])\n",
    "plt.show()"
   ]
  },
  {
   "cell_type": "code",
   "execution_count": null,
   "metadata": {
    "pycharm": {
     "is_executing": true
    }
   },
   "outputs": [],
   "source": [
    "plt.hist(total_mean['429622005'])\n",
    "plt.show()"
   ]
  },
  {
   "cell_type": "code",
   "execution_count": null,
   "metadata": {
    "pycharm": {
     "is_executing": true
    }
   },
   "outputs": [],
   "source": [
    "plt.hist(total_mean['164889003,59118001'])\n",
    "plt.show()"
   ]
  }
 ],
 "metadata": {
  "kernelspec": {
   "display_name": "Python 3",
   "language": "python",
   "name": "python3"
  },
  "language_info": {
   "codemirror_mode": {
    "name": "ipython",
    "version": 3
   },
   "file_extension": ".py",
   "mimetype": "text/x-python",
   "name": "python",
   "nbconvert_exporter": "python",
   "pygments_lexer": "ipython3",
   "version": "3.7.7"
  },
  "pycharm": {
   "stem_cell": {
    "cell_type": "raw",
    "source": [],
    "metadata": {
     "collapsed": false
    }
   }
  }
 },
 "nbformat": 4,
 "nbformat_minor": 4
}